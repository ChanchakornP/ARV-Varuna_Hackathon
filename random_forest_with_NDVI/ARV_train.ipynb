{
  "nbformat": 4,
  "nbformat_minor": 0,
  "metadata": {
    "colab": {
      "name": "ARV_train.ipynb",
      "provenance": [],
      "collapsed_sections": []
    },
    "kernelspec": {
      "name": "python3",
      "display_name": "Python 3"
    },
    "language_info": {
      "name": "python"
    }
  },
  "cells": [
    {
      "cell_type": "code",
      "source": [
        "from google.colab import drive\n",
        "drive.mount('/content/drive')"
      ],
      "metadata": {
        "colab": {
          "base_uri": "https://localhost:8080/"
        },
        "id": "-JWtZe4a89Gy",
        "outputId": "5d9e0c82-0e00-4bb3-aa63-7c8f72845d7f"
      },
      "execution_count": 2,
      "outputs": [
        {
          "output_type": "stream",
          "name": "stdout",
          "text": [
            "Drive already mounted at /content/drive; to attempt to forcibly remount, call drive.mount(\"/content/drive\", force_remount=True).\n"
          ]
        }
      ]
    },
    {
      "cell_type": "code",
      "execution_count": null,
      "metadata": {
        "id": "pMlCmN9r8sxe"
      },
      "outputs": [],
      "source": [
        "! pip install rasterio \n",
        "! pip install geopandas\n",
        "! pip install rioxarray"
      ]
    },
    {
      "cell_type": "code",
      "source": [
        "# Working with raster data\n",
        "import rasterio\n",
        "import numpy as np\n",
        "from rasterio.features import rasterize\n",
        "import matplotlib.pyplot as plt\n",
        "import os\n",
        "from sklearn import preprocessing\n",
        "from shapely.geometry import Polygon\n",
        "import geopandas as gpd\n",
        "from shapely.geometry import box\n",
        "import rioxarray\n",
        "from shapely.geometry import Polygon, mapping\n",
        "import rasterio.plot as plot\n",
        "from sklearn.metrics import accuracy_score, confusion_matrix, classification_report\n",
        "import random\n",
        "import json\n",
        "import joblib\n",
        "import datetime\n",
        "import pandas as pd\n",
        "from sklearn.ensemble import RandomForestClassifier"
      ],
      "metadata": {
        "id": "J72Eyd_g8zhB"
      },
      "execution_count": 8,
      "outputs": []
    },
    {
      "cell_type": "code",
      "source": [
        "src = \"/content/drive/MyDrive/ARV_Hackathon/NDVI_Process_mean_time/\"\n",
        "src_y = \"/content/drive/MyDrive/ARV_Hackathon/NDVI_Process_mean_time_y/\"\n",
        "\n",
        "all_dir = os.listdir(src)\n",
        "all_dir_y = os.listdir(src_y)\n",
        "df_train = pd.read_csv (src + all_dir[1])\n",
        "y = pd.read_csv (src_y + all_dir_y[1])\n",
        "for i in range(len(all_dir)):\n",
        "    if i == 0 or i == 1 :\n",
        "        continue\n",
        "    temp = pd.read_csv (src + all_dir[i])\n",
        "    temp_y = pd.read_csv (src_y + all_dir_y[i])\n",
        "    df_train = pd.concat([df_train, temp])\n",
        "    y = pd.concat([y,temp_y])\n",
        "df_train.drop(columns=['Unnamed: 0'], inplace=True)"
      ],
      "metadata": {
        "id": "ub7whCrt86x0"
      },
      "execution_count": 58,
      "outputs": []
    },
    {
      "cell_type": "code",
      "source": [
        "clf = RandomForestClassifier(max_depth=5, random_state=0)\n",
        "clf.fit(df_train, pd.to_numeric(y['crop_type'], downcast='integer'))"
      ],
      "metadata": {
        "colab": {
          "base_uri": "https://localhost:8080/"
        },
        "id": "zXfxxEGTAkY2",
        "outputId": "7f3c36c3-5576-4716-afcd-f32da4aaa89f"
      },
      "execution_count": 59,
      "outputs": [
        {
          "output_type": "execute_result",
          "data": {
            "text/plain": [
              "RandomForestClassifier(max_depth=5, random_state=0)"
            ]
          },
          "metadata": {},
          "execution_count": 59
        }
      ]
    },
    {
      "cell_type": "code",
      "source": [
        "joblib.dump(clf, \"./random_forest_full.joblib\")"
      ],
      "metadata": {
        "colab": {
          "base_uri": "https://localhost:8080/"
        },
        "id": "Q6BoI1upBHXi",
        "outputId": "6174574b-01e6-47d8-98f9-1790e21dacfc"
      },
      "execution_count": 60,
      "outputs": [
        {
          "output_type": "execute_result",
          "data": {
            "text/plain": [
              "['./random_forest_full.joblib']"
            ]
          },
          "metadata": {},
          "execution_count": 60
        }
      ]
    },
    {
      "cell_type": "code",
      "source": [
        "! cp /content/random_forest_full.joblib /content/drive/MyDrive/ARV_Hackathon/Model"
      ],
      "metadata": {
        "id": "bq8gNULPBK1K"
      },
      "execution_count": 61,
      "outputs": []
    }
  ]
}