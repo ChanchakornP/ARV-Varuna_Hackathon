{
  "nbformat": 4,
  "nbformat_minor": 0,
  "metadata": {
    "colab": {
      "name": "ARV_test.ipynb",
      "provenance": [],
      "collapsed_sections": []
    },
    "kernelspec": {
      "name": "python3",
      "display_name": "Python 3"
    },
    "language_info": {
      "name": "python"
    }
  },
  "cells": [
    {
      "cell_type": "code",
      "execution_count": 66,
      "metadata": {
        "colab": {
          "base_uri": "https://localhost:8080/"
        },
        "id": "--LUf6f6DLHf",
        "outputId": "f04c367e-296f-496c-e597-267467be28b2"
      },
      "outputs": [
        {
          "output_type": "stream",
          "name": "stdout",
          "text": [
            "Looking in indexes: https://pypi.org/simple, https://us-python.pkg.dev/colab-wheels/public/simple/\n",
            "Requirement already satisfied: rasterio in /usr/local/lib/python3.7/dist-packages (1.2.10)\n",
            "Requirement already satisfied: snuggs>=1.4.1 in /usr/local/lib/python3.7/dist-packages (from rasterio) (1.4.7)\n",
            "Requirement already satisfied: setuptools in /usr/local/lib/python3.7/dist-packages (from rasterio) (57.4.0)\n",
            "Requirement already satisfied: click-plugins in /usr/local/lib/python3.7/dist-packages (from rasterio) (1.1.1)\n",
            "Requirement already satisfied: certifi in /usr/local/lib/python3.7/dist-packages (from rasterio) (2022.6.15)\n",
            "Requirement already satisfied: affine in /usr/local/lib/python3.7/dist-packages (from rasterio) (2.3.1)\n",
            "Requirement already satisfied: attrs in /usr/local/lib/python3.7/dist-packages (from rasterio) (21.4.0)\n",
            "Requirement already satisfied: click>=4.0 in /usr/local/lib/python3.7/dist-packages (from rasterio) (7.1.2)\n",
            "Requirement already satisfied: cligj>=0.5 in /usr/local/lib/python3.7/dist-packages (from rasterio) (0.7.2)\n",
            "Requirement already satisfied: numpy in /usr/local/lib/python3.7/dist-packages (from rasterio) (1.21.6)\n",
            "Requirement already satisfied: pyparsing>=2.1.6 in /usr/local/lib/python3.7/dist-packages (from snuggs>=1.4.1->rasterio) (3.0.9)\n",
            "Looking in indexes: https://pypi.org/simple, https://us-python.pkg.dev/colab-wheels/public/simple/\n",
            "Requirement already satisfied: geopandas in /usr/local/lib/python3.7/dist-packages (0.10.2)\n",
            "Requirement already satisfied: shapely>=1.6 in /usr/local/lib/python3.7/dist-packages (from geopandas) (1.8.2)\n",
            "Requirement already satisfied: fiona>=1.8 in /usr/local/lib/python3.7/dist-packages (from geopandas) (1.8.21)\n",
            "Requirement already satisfied: pyproj>=2.2.0 in /usr/local/lib/python3.7/dist-packages (from geopandas) (3.2.1)\n",
            "Requirement already satisfied: pandas>=0.25.0 in /usr/local/lib/python3.7/dist-packages (from geopandas) (1.3.5)\n",
            "Requirement already satisfied: six>=1.7 in /usr/local/lib/python3.7/dist-packages (from fiona>=1.8->geopandas) (1.15.0)\n",
            "Requirement already satisfied: munch in /usr/local/lib/python3.7/dist-packages (from fiona>=1.8->geopandas) (2.5.0)\n",
            "Requirement already satisfied: certifi in /usr/local/lib/python3.7/dist-packages (from fiona>=1.8->geopandas) (2022.6.15)\n",
            "Requirement already satisfied: attrs>=17 in /usr/local/lib/python3.7/dist-packages (from fiona>=1.8->geopandas) (21.4.0)\n",
            "Requirement already satisfied: click-plugins>=1.0 in /usr/local/lib/python3.7/dist-packages (from fiona>=1.8->geopandas) (1.1.1)\n",
            "Requirement already satisfied: click>=4.0 in /usr/local/lib/python3.7/dist-packages (from fiona>=1.8->geopandas) (7.1.2)\n",
            "Requirement already satisfied: cligj>=0.5 in /usr/local/lib/python3.7/dist-packages (from fiona>=1.8->geopandas) (0.7.2)\n",
            "Requirement already satisfied: setuptools in /usr/local/lib/python3.7/dist-packages (from fiona>=1.8->geopandas) (57.4.0)\n",
            "Requirement already satisfied: pytz>=2017.3 in /usr/local/lib/python3.7/dist-packages (from pandas>=0.25.0->geopandas) (2022.1)\n",
            "Requirement already satisfied: numpy>=1.17.3 in /usr/local/lib/python3.7/dist-packages (from pandas>=0.25.0->geopandas) (1.21.6)\n",
            "Requirement already satisfied: python-dateutil>=2.7.3 in /usr/local/lib/python3.7/dist-packages (from pandas>=0.25.0->geopandas) (2.8.2)\n",
            "Looking in indexes: https://pypi.org/simple, https://us-python.pkg.dev/colab-wheels/public/simple/\n",
            "Requirement already satisfied: rioxarray in /usr/local/lib/python3.7/dist-packages (0.9.1)\n",
            "Requirement already satisfied: pyproj>=2.2 in /usr/local/lib/python3.7/dist-packages (from rioxarray) (3.2.1)\n",
            "Requirement already satisfied: rasterio in /usr/local/lib/python3.7/dist-packages (from rioxarray) (1.2.10)\n",
            "Requirement already satisfied: xarray>=0.17 in /usr/local/lib/python3.7/dist-packages (from rioxarray) (0.20.2)\n",
            "Requirement already satisfied: packaging in /usr/local/lib/python3.7/dist-packages (from rioxarray) (21.3)\n",
            "Requirement already satisfied: certifi in /usr/local/lib/python3.7/dist-packages (from pyproj>=2.2->rioxarray) (2022.6.15)\n",
            "Requirement already satisfied: typing-extensions>=3.7 in /usr/local/lib/python3.7/dist-packages (from xarray>=0.17->rioxarray) (4.1.1)\n",
            "Requirement already satisfied: numpy>=1.18 in /usr/local/lib/python3.7/dist-packages (from xarray>=0.17->rioxarray) (1.21.6)\n",
            "Requirement already satisfied: importlib-metadata in /usr/local/lib/python3.7/dist-packages (from xarray>=0.17->rioxarray) (4.11.4)\n",
            "Requirement already satisfied: pandas>=1.1 in /usr/local/lib/python3.7/dist-packages (from xarray>=0.17->rioxarray) (1.3.5)\n",
            "Requirement already satisfied: pytz>=2017.3 in /usr/local/lib/python3.7/dist-packages (from pandas>=1.1->xarray>=0.17->rioxarray) (2022.1)\n",
            "Requirement already satisfied: python-dateutil>=2.7.3 in /usr/local/lib/python3.7/dist-packages (from pandas>=1.1->xarray>=0.17->rioxarray) (2.8.2)\n",
            "Requirement already satisfied: six>=1.5 in /usr/local/lib/python3.7/dist-packages (from python-dateutil>=2.7.3->pandas>=1.1->xarray>=0.17->rioxarray) (1.15.0)\n",
            "Requirement already satisfied: zipp>=0.5 in /usr/local/lib/python3.7/dist-packages (from importlib-metadata->xarray>=0.17->rioxarray) (3.8.0)\n",
            "Requirement already satisfied: pyparsing!=3.0.5,>=2.0.2 in /usr/local/lib/python3.7/dist-packages (from packaging->rioxarray) (3.0.9)\n",
            "Requirement already satisfied: click>=4.0 in /usr/local/lib/python3.7/dist-packages (from rasterio->rioxarray) (7.1.2)\n",
            "Requirement already satisfied: click-plugins in /usr/local/lib/python3.7/dist-packages (from rasterio->rioxarray) (1.1.1)\n",
            "Requirement already satisfied: attrs in /usr/local/lib/python3.7/dist-packages (from rasterio->rioxarray) (21.4.0)\n",
            "Requirement already satisfied: setuptools in /usr/local/lib/python3.7/dist-packages (from rasterio->rioxarray) (57.4.0)\n",
            "Requirement already satisfied: affine in /usr/local/lib/python3.7/dist-packages (from rasterio->rioxarray) (2.3.1)\n",
            "Requirement already satisfied: snuggs>=1.4.1 in /usr/local/lib/python3.7/dist-packages (from rasterio->rioxarray) (1.4.7)\n",
            "Requirement already satisfied: cligj>=0.5 in /usr/local/lib/python3.7/dist-packages (from rasterio->rioxarray) (0.7.2)\n"
          ]
        }
      ],
      "source": [
        "! pip install rasterio \n",
        "! pip install geopandas\n",
        "! pip install rioxarray"
      ]
    },
    {
      "cell_type": "code",
      "source": [
        "# Working with raster data\n",
        "import rasterio\n",
        "import numpy as np\n",
        "from rasterio.features import rasterize\n",
        "import matplotlib.pyplot as plt\n",
        "import os\n",
        "from sklearn import preprocessing\n",
        "from shapely.geometry import Polygon\n",
        "import geopandas as gpd\n",
        "from shapely.geometry import box\n",
        "import rioxarray\n",
        "from shapely.geometry import Polygon, mapping\n",
        "import rasterio.plot as plot\n",
        "from sklearn.metrics import accuracy_score, confusion_matrix, classification_report\n",
        "import random\n",
        "import json\n",
        "import joblib\n",
        "import pandas as pd\n",
        "import datetime\n",
        "from sklearn.ensemble import RandomForestClassifier"
      ],
      "metadata": {
        "id": "zWRo0k1pDmae"
      },
      "execution_count": 67,
      "outputs": []
    },
    {
      "cell_type": "code",
      "source": [
        "shape_file = '/content/drive/MyDrive/VarunaHackathon2022/training_area/traindata.shp'\n",
        "src = '/content/drive/MyDrive/VarunaHackathon2022/sentinel-2-image/'\n",
        "year = '2021'\n",
        "\n",
        "#url to the bands\n",
        "b4 = src + year + '/20210210/IMG_DATA/47PQS_20210210_B04.jp2'\n",
        "b8 = src + year + '/20210210/IMG_DATA/47PQS_20210210_B08.jp2'"
      ],
      "metadata": {
        "id": "aC2Y53lcB2qz"
      },
      "execution_count": 68,
      "outputs": []
    },
    {
      "cell_type": "code",
      "source": [
        "outfile = routfile = r'/content/ndvi_temp.tif'\n",
        "\n",
        "#open the bands (I can't believe how easy is this with rasterio!)\n",
        "with rasterio.open(b4) as red:\n",
        "    RED = red.read()\n",
        "with rasterio.open(b8) as nir:\n",
        "    NIR = nir.read()\n",
        "\n",
        "#compute the ndvi\n",
        "# NDVI = (NIR – Red) / (NIR + Red) NIR=B8 Red=B4\n",
        "ndvi = (NIR.astype(float) - RED.astype(float)) / (NIR+RED)\n",
        "#print(np.nanmin(ndvi), np.nanmax(ndvi))\n",
        "\n",
        "profile = red.meta\n",
        "profile.update(driver='GTiff')\n",
        "profile.update(dtype=rasterio.float32)\n",
        "\n",
        "with rasterio.open(outfile, 'w', **profile) as dst:\n",
        "    dst.write(ndvi.astype(rasterio.float32))\n",
        "\n",
        "ground_truth = gpd.read_file(shape_file)\n",
        "NDVI_dataset = rasterio.open('/content/ndvi_temp.tif')\n",
        "NDVI_dataset_p = rasterio.open('/content/ndvi_temp.tif').profile\n",
        "label = gpd.read_file(shape_file).to_crs(NDVI_dataset_p['crs'])\n",
        "all_mean = []\n",
        "for i in range(len(ground_truth)):\n",
        "    polygon_geom = mapping(ground_truth.geometry[i])\n",
        "\n",
        "    roi_polygon_src_coords = rasterio.warp.transform_geom({'init': 'epsg:32647'},\n",
        "                                                NDVI_dataset_p['crs'],                                            \n",
        "                                                polygon_geom)\n",
        "\n",
        "    out_image,out_transform = rasterio.mask.mask(NDVI_dataset,\n",
        "                                        [roi_polygon_src_coords],\n",
        "                                        crop=True)\n",
        "\n",
        "    out_image = np.clip(out_image[2::-1],\n",
        "                      0,2200)/2200\n",
        "\n",
        "    #plt.figure(figsize=(10,10))\n",
        "    #plot.show(out_image,\n",
        "    #          transform=out_transform)\n",
        "    all_mean.append(np.mean(out_image[out_image!=0]))\n",
        "\n",
        "# JSON file\n",
        "f = open (src + year + '/20210210/productInfo.json', \"r\")\n",
        "# Reading from file\n",
        "data = json.loads(f.read())\n",
        "# Iterating through the json\n",
        "# list\n",
        "data_week = pd.Timestamp(datetime.datetime.strptime(data['timestamp'],\"%Y-%m-%dT%H:%M:%S.%fZ\")).week\n",
        "# Closing file\n",
        "f.close()\n",
        "        \n",
        "add = [data_week] * len(all_mean)\n",
        "all_mean_t=[all_mean]\n",
        "all_mean_t.append(add)\n",
        "all_mean_t=np.array(all_mean_t).astype('f')\n",
        "all_mean_t = np.nan_to_num(all_mean_t, nan=0)\n",
        "all_mean_t = np.transpose(all_mean_t)\n",
        "\n",
        "df_test = pd.DataFrame(all_mean_t, columns=['mean', 'week'])"
      ],
      "metadata": {
        "colab": {
          "base_uri": "https://localhost:8080/"
        },
        "id": "UGAD8Y4eCCOs",
        "outputId": "a8609b88-c7e4-41b1-9894-7eeae9df02cc"
      },
      "execution_count": 69,
      "outputs": [
        {
          "output_type": "stream",
          "name": "stderr",
          "text": [
            "/usr/local/lib/python3.7/dist-packages/ipykernel_launcher.py:11: RuntimeWarning: invalid value encountered in true_divide\n",
            "  # This is added back by InteractiveShellApp.init_path()\n",
            "/usr/local/lib/python3.7/dist-packages/numpy/core/fromnumeric.py:3441: RuntimeWarning: Mean of empty slice.\n",
            "  out=out, **kwargs)\n",
            "/usr/local/lib/python3.7/dist-packages/numpy/core/_methods.py:189: RuntimeWarning: invalid value encountered in true_divide\n",
            "  ret = ret.dtype.type(ret / rcount)\n"
          ]
        }
      ]
    },
    {
      "cell_type": "code",
      "source": [
        "clf = joblib.load(\"/content/drive/MyDrive/ARV_Hackathon/Model/random_forest_full.joblib\")"
      ],
      "metadata": {
        "id": "wuYlIANJEx60"
      },
      "execution_count": 149,
      "outputs": []
    },
    {
      "cell_type": "code",
      "source": [
        "ans = clf.predict(df_test)"
      ],
      "metadata": {
        "id": "DAC4JWRgD6x8"
      },
      "execution_count": 150,
      "outputs": []
    },
    {
      "cell_type": "code",
      "source": [
        "send = pd.DataFrame(ans, columns=['crop_type'])\n",
        "send.to_csv(\"./final.csv\")"
      ],
      "metadata": {
        "id": "P1Lo2IMtIjJ6"
      },
      "execution_count": 151,
      "outputs": []
    },
    {
      "cell_type": "code",
      "source": [
        "ground_truth = gpd.read_file('/content/drive/MyDrive/VarunaHackathon2022/training_area/traindata.shp')"
      ],
      "metadata": {
        "id": "b8Z-DkmHFfee"
      },
      "execution_count": 152,
      "outputs": []
    },
    {
      "cell_type": "code",
      "source": [
        "accuracy_score(ans, np.array(ground_truth['crop_type']).astype(int))"
      ],
      "metadata": {
        "colab": {
          "base_uri": "https://localhost:8080/"
        },
        "id": "bxDhxB-xFjrQ",
        "outputId": "0b0e09b5-dbc0-4554-af5d-084663c2a89a"
      },
      "execution_count": 153,
      "outputs": [
        {
          "output_type": "execute_result",
          "data": {
            "text/plain": [
              "0.5140470766894457"
            ]
          },
          "metadata": {},
          "execution_count": 153
        }
      ]
    },
    {
      "cell_type": "code",
      "source": [
        "confusion_matrix(ans, np.array(ground_truth['crop_type']).astype(int))"
      ],
      "metadata": {
        "colab": {
          "base_uri": "https://localhost:8080/"
        },
        "id": "-wPUBWKhFtgO",
        "outputId": "ca64e106-f927-487b-df77-b11c63390c27"
      },
      "execution_count": 154,
      "outputs": [
        {
          "output_type": "execute_result",
          "data": {
            "text/plain": [
              "array([[207,  11,  41,   5],\n",
              "       [142, 166, 109,  30],\n",
              "       [ 97,  41, 222,  17],\n",
              "       [ 64,  22,  61,  82]])"
            ]
          },
          "metadata": {},
          "execution_count": 154
        }
      ]
    }
  ]
}