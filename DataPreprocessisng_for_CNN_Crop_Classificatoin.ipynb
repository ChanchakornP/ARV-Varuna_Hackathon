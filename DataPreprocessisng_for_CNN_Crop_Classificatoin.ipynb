{
  "nbformat": 4,
  "nbformat_minor": 0,
  "metadata": {
    "colab": {
      "name": "DataPreprocessisng_for_CNN_Crop_Classificatoin.ipynb",
      "provenance": [],
      "collapsed_sections": []
    },
    "kernelspec": {
      "name": "python3",
      "display_name": "Python 3"
    },
    "language_info": {
      "name": "python"
    }
  },
  "cells": [
    {
      "cell_type": "code",
      "source": [
        "!pip -q install geopandas rasterio rasterstats shapely"
      ],
      "metadata": {
        "colab": {
          "base_uri": "https://localhost:8080/"
        },
        "id": "FCVQoYrMPuo0",
        "outputId": "f106aea3-f9b8-4f46-cecb-bda707bfadf0"
      },
      "execution_count": null,
      "outputs": [
        {
          "output_type": "stream",
          "name": "stdout",
          "text": [
            "\u001b[K     |████████████████████████████████| 1.0 MB 31.6 MB/s \n",
            "\u001b[K     |████████████████████████████████| 19.3 MB 6.8 MB/s \n",
            "\u001b[K     |████████████████████████████████| 6.3 MB 54.7 MB/s \n",
            "\u001b[K     |████████████████████████████████| 16.7 MB 56.2 MB/s \n",
            "\u001b[K     |████████████████████████████████| 130 kB 76.2 MB/s \n",
            "\u001b[?25h"
          ]
        }
      ]
    },
    {
      "cell_type": "code",
      "execution_count": null,
      "metadata": {
        "id": "k2XHeId_POya"
      },
      "outputs": [],
      "source": [
        "from shapely.geometry import Point\n",
        "from math import sqrt\n",
        "import cv2\n",
        "from rasterio.features import rasterize\n",
        "import numpy as np\n",
        "import rasterio\n",
        "from rasterio import plot\n",
        "import matplotlib.pyplot as plt\n",
        "from glob import glob\n",
        "from tqdm import tqdm\n",
        "import geopandas\n",
        "\n",
        "def to_square(polygon):\n",
        "    minx, miny, maxx, maxy = polygon.bounds\n",
        "    centroid = [(maxx+minx)/2, (maxy+miny)/2]\n",
        "    return Point(centroid).buffer(84, cap_style=3)"
      ]
    },
    {
      "cell_type": "code",
      "source": [
        "path_data_list = glob('/content/drive/MyDrive/Varuna Hackathon 2022/sentinel-2-image/2021/2021*/IMG_DATA/***.jp2')\n",
        "img_profile = rasterio.open('/content/drive/MyDrive/Varuna Hackathon 2022/sentinel-2-image/2021/20211227/IMG_DATA/47PQS_20211227_B11.jp2').profile\n",
        "label = geopandas.read_file('/content/drive/MyDrive/Varuna Hackathon 2022/training_area/traindata.shp').to_crs(img_profile['crs'])\n",
        "\n",
        "arr_all = []\n",
        "y = []\n",
        "for idx, path_data in tqdm(enumerate([path_data_list[0]])): # if you want to full prepare data Please enter 'path_data_list' instead of '[path_data_list[0]]'\n",
        "    print(idx)\n",
        "    img_for_crop = rasterio.open(path_data).read(1)\n",
        "    img_profile = rasterio.open(path_data).profile\n",
        "    arr_day = []\n",
        "    for i, row in label.iterrows():\n",
        "        if row.crop_type in ['1', '2', '3', '4']:\n",
        "            geometry = to_square(row.geometry)\n",
        "            crop_type =  int(row.crop_type)\n",
        "            target_image = rasterize(shapes=[geometry, crop_type],\n",
        "                                    out_shape=(img_profile['width'], img_profile['height']),\n",
        "                                    transform=img_profile['transform'])\n",
        "            img = target_image.astype(np.uint8)\n",
        "            x_coords = np.where((img > 0))[0]\n",
        "            y_coords = np.where((img > 0))[1]\n",
        "            xmin = int(min(x_coords))\n",
        "            ymin = int(max(y_coords))\n",
        "            w = int(max(x_coords) - min(x_coords))\n",
        "            h = int(max(y_coords) - min(y_coords))\n",
        "            result_img = img_for_crop[ymin:ymin+h, xmin:xmin+w]\n",
        "            result_img = cv2.resize(result_img, (16, 16))\n",
        "            each_band = result_img\n",
        "            arr_day.append([each_band])\n",
        "            if idx < 1:\n",
        "                y.append(crop_type)\n",
        "    arr_all.append(arr_day)"
      ],
      "metadata": {
        "colab": {
          "base_uri": "https://localhost:8080/"
        },
        "id": "wbOxhf8XP9_Q",
        "outputId": "950023d3-43bc-45af-a2a1-857ee0ebab0a"
      },
      "execution_count": null,
      "outputs": [
        {
          "output_type": "stream",
          "name": "stderr",
          "text": [
            "\r0it [00:00, ?it/s]"
          ]
        },
        {
          "output_type": "stream",
          "name": "stdout",
          "text": [
            "0\n"
          ]
        },
        {
          "output_type": "stream",
          "name": "stderr",
          "text": [
            "/usr/local/lib/python3.7/dist-packages/rasterio/features.py:318: ShapeSkipWarning: Invalid or empty shape 1 at index 1 will not be rasterized.\n",
            "  warnings.warn('Invalid or empty shape {} at index {} will not be rasterized.'.format(geom, index), ShapeSkipWarning)\n",
            "/usr/local/lib/python3.7/dist-packages/rasterio/features.py:318: ShapeSkipWarning: Invalid or empty shape 3 at index 1 will not be rasterized.\n",
            "  warnings.warn('Invalid or empty shape {} at index {} will not be rasterized.'.format(geom, index), ShapeSkipWarning)\n",
            "/usr/local/lib/python3.7/dist-packages/rasterio/features.py:318: ShapeSkipWarning: Invalid or empty shape 2 at index 1 will not be rasterized.\n",
            "  warnings.warn('Invalid or empty shape {} at index {} will not be rasterized.'.format(geom, index), ShapeSkipWarning)\n",
            "/usr/local/lib/python3.7/dist-packages/rasterio/features.py:318: ShapeSkipWarning: Invalid or empty shape 4 at index 1 will not be rasterized.\n",
            "  warnings.warn('Invalid or empty shape {} at index {} will not be rasterized.'.format(geom, index), ShapeSkipWarning)\n",
            "1it [00:45, 45.99s/it]\n"
          ]
        }
      ]
    },
    {
      "cell_type": "code",
      "source": [
        "arr_all = np.array(arr_all)\n",
        "y = np.array(y)\n",
        "\n",
        "arr_all.shape, y.shape #arr_all is 5-dimension for CNN (N-band, N-crop, day, w, h)"
      ],
      "metadata": {
        "colab": {
          "base_uri": "https://localhost:8080/"
        },
        "id": "ZUc4KZTBTQQ5",
        "outputId": "f17f1361-652b-446d-e85b-25d5d7721956"
      },
      "execution_count": null,
      "outputs": [
        {
          "output_type": "execute_result",
          "data": {
            "text/plain": [
              "((1, 1317, 1, 16, 16), (1317,))"
            ]
          },
          "metadata": {},
          "execution_count": 9
        }
      ]
    },
    {
      "cell_type": "code",
      "source": [
        "with open('/content/drive/MyDrive/ARV_hackthon_2022/arr_all.npy', 'wb') as aa:\n",
        "    np.save(aa, arr_all)\n",
        "with open('/content/drive/MyDrive/ARV_hackthon_2022/labels.npy', 'wb') as l:\n",
        "    np.save(l, y)"
      ],
      "metadata": {
        "id": "7-IPgaQdQSAq"
      },
      "execution_count": null,
      "outputs": []
    }
  ]
}