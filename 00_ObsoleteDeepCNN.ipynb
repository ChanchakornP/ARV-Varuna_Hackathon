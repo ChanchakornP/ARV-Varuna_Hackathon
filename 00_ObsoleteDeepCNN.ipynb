{
  "nbformat": 4,
  "nbformat_minor": 0,
  "metadata": {
    "colab": {
      "name": "01_Segmentation.ipynb",
      "provenance": []
    },
    "kernelspec": {
      "name": "python3",
      "display_name": "Python 3"
    },
    "language_info": {
      "name": "python"
    }
  },
  "cells": [
    {
      "cell_type": "code",
      "source": [
        "!pip install geopandas\n",
        "!pip install rasterio"
      ],
      "metadata": {
        "colab": {
          "base_uri": "https://localhost:8080/"
        },
        "id": "N3rJT8nWO9jS",
        "outputId": "14baa4cd-1f05-450f-95fb-618e290df9bc"
      },
      "execution_count": 3,
      "outputs": [
        {
          "output_type": "stream",
          "name": "stdout",
          "text": [
            "Looking in indexes: https://pypi.org/simple, https://us-python.pkg.dev/colab-wheels/public/simple/\n",
            "Collecting geopandas\n",
            "  Downloading geopandas-0.10.2-py2.py3-none-any.whl (1.0 MB)\n",
            "\u001b[K     |████████████████████████████████| 1.0 MB 6.6 MB/s \n",
            "\u001b[?25hCollecting fiona>=1.8\n",
            "  Downloading Fiona-1.8.21-cp37-cp37m-manylinux2014_x86_64.whl (16.7 MB)\n",
            "\u001b[K     |████████████████████████████████| 16.7 MB 434 kB/s \n",
            "\u001b[?25hCollecting pyproj>=2.2.0\n",
            "  Downloading pyproj-3.2.1-cp37-cp37m-manylinux2010_x86_64.whl (6.3 MB)\n",
            "\u001b[K     |████████████████████████████████| 6.3 MB 43.9 MB/s \n",
            "\u001b[?25hRequirement already satisfied: shapely>=1.6 in /usr/local/lib/python3.7/dist-packages (from geopandas) (1.8.2)\n",
            "Requirement already satisfied: pandas>=0.25.0 in /usr/local/lib/python3.7/dist-packages (from geopandas) (1.3.5)\n",
            "Collecting click-plugins>=1.0\n",
            "  Downloading click_plugins-1.1.1-py2.py3-none-any.whl (7.5 kB)\n",
            "Collecting munch\n",
            "  Downloading munch-2.5.0-py2.py3-none-any.whl (10 kB)\n",
            "Requirement already satisfied: attrs>=17 in /usr/local/lib/python3.7/dist-packages (from fiona>=1.8->geopandas) (21.4.0)\n",
            "Requirement already satisfied: setuptools in /usr/local/lib/python3.7/dist-packages (from fiona>=1.8->geopandas) (57.4.0)\n",
            "Collecting cligj>=0.5\n",
            "  Downloading cligj-0.7.2-py3-none-any.whl (7.1 kB)\n",
            "Requirement already satisfied: certifi in /usr/local/lib/python3.7/dist-packages (from fiona>=1.8->geopandas) (2022.6.15)\n",
            "Requirement already satisfied: click>=4.0 in /usr/local/lib/python3.7/dist-packages (from fiona>=1.8->geopandas) (7.1.2)\n",
            "Requirement already satisfied: six>=1.7 in /usr/local/lib/python3.7/dist-packages (from fiona>=1.8->geopandas) (1.15.0)\n",
            "Requirement already satisfied: pytz>=2017.3 in /usr/local/lib/python3.7/dist-packages (from pandas>=0.25.0->geopandas) (2022.1)\n",
            "Requirement already satisfied: python-dateutil>=2.7.3 in /usr/local/lib/python3.7/dist-packages (from pandas>=0.25.0->geopandas) (2.8.2)\n",
            "Requirement already satisfied: numpy>=1.17.3 in /usr/local/lib/python3.7/dist-packages (from pandas>=0.25.0->geopandas) (1.21.6)\n",
            "Installing collected packages: munch, cligj, click-plugins, pyproj, fiona, geopandas\n",
            "Successfully installed click-plugins-1.1.1 cligj-0.7.2 fiona-1.8.21 geopandas-0.10.2 munch-2.5.0 pyproj-3.2.1\n",
            "Looking in indexes: https://pypi.org/simple, https://us-python.pkg.dev/colab-wheels/public/simple/\n",
            "Collecting rasterio\n",
            "  Downloading rasterio-1.2.10-cp37-cp37m-manylinux1_x86_64.whl (19.3 MB)\n",
            "\u001b[K     |████████████████████████████████| 19.3 MB 1.2 MB/s \n",
            "\u001b[?25hRequirement already satisfied: setuptools in /usr/local/lib/python3.7/dist-packages (from rasterio) (57.4.0)\n",
            "Requirement already satisfied: attrs in /usr/local/lib/python3.7/dist-packages (from rasterio) (21.4.0)\n",
            "Requirement already satisfied: click>=4.0 in /usr/local/lib/python3.7/dist-packages (from rasterio) (7.1.2)\n",
            "Collecting snuggs>=1.4.1\n",
            "  Downloading snuggs-1.4.7-py3-none-any.whl (5.4 kB)\n",
            "Requirement already satisfied: certifi in /usr/local/lib/python3.7/dist-packages (from rasterio) (2022.6.15)\n",
            "Requirement already satisfied: click-plugins in /usr/local/lib/python3.7/dist-packages (from rasterio) (1.1.1)\n",
            "Collecting affine\n",
            "  Downloading affine-2.3.1-py2.py3-none-any.whl (16 kB)\n",
            "Requirement already satisfied: cligj>=0.5 in /usr/local/lib/python3.7/dist-packages (from rasterio) (0.7.2)\n",
            "Requirement already satisfied: numpy in /usr/local/lib/python3.7/dist-packages (from rasterio) (1.21.6)\n",
            "Requirement already satisfied: pyparsing>=2.1.6 in /usr/local/lib/python3.7/dist-packages (from snuggs>=1.4.1->rasterio) (3.0.9)\n",
            "Installing collected packages: snuggs, affine, rasterio\n",
            "Successfully installed affine-2.3.1 rasterio-1.2.10 snuggs-1.4.7\n"
          ]
        }
      ]
    },
    {
      "cell_type": "code",
      "execution_count": 7,
      "metadata": {
        "id": "Og4PMJJJOH69"
      },
      "outputs": [],
      "source": [
        "import torch\n",
        "from torch.utils.data import DataLoader, Dataset\n",
        "import cv2\n",
        "from rasterio.features import rasterize\n",
        "import numpy as np\n",
        "import geopandas as gpd\n",
        "from glob import glob\n",
        "import rasterio\n",
        "import matplotlib.pyplot as plt\n",
        "from torch import nn"
      ]
    },
    {
      "cell_type": "code",
      "source": [
        "class ImageUtils:\n",
        "  def get_random_crop(image, crop_size):\n",
        "    crop_height, crop_width = crop_size\n",
        "    max_x = image.shape[1] - crop_width\n",
        "    max_y = image.shape[0] - crop_height\n",
        "\n",
        "    x = np.random.randint(0, max_x)\n",
        "    y = np.random.randint(0, max_y)\n",
        "\n",
        "    crop = image[y: y + crop_height, x: x + crop_width]\n",
        "\n",
        "    return crop\n",
        "\n",
        "\n",
        "class CustomData(Dataset):\n",
        "  def __init__(self, gdf, size, path, no_crop_per_img, cropped_size = (64,64)):\n",
        "    super().__init__()\n",
        "    self.gdf = gdf\n",
        "    self.size = size\n",
        "    self.path = path\n",
        "    self.no_crop_per_img = no_crop_per_img\n",
        "    self.cropped_size = cropped_size\n",
        "    img_profile = rasterio.open(path[0][0]).profile\n",
        "    label = gdf.to_crs(img_profile['crs'])\n",
        "    labels = rasterize(\n",
        "        shapes=[(row.geometry, int(row.crop_type)) for i, row in label.iterrows()], # Construct polygon and value tuples\n",
        "        out_shape=(img_profile['width'], img_profile['height']),\n",
        "        transform=img_profile['transform']                                          # This will make every pixel in the target image align correctly with satellite image\n",
        "    )\n",
        "    self.labels = cv2.resize(labels, self.size)\n",
        "\n",
        "  def __len__(self):\n",
        "    return len(path)\n",
        "\n",
        "  def __getitem__(self, index):\n",
        "    arr_img = []\n",
        "    arr_labels = []\n",
        "    for date in self.path[index]:\n",
        "      img = rasterio.open(date)\n",
        "      img = img.read()[0]\n",
        "\n",
        "      reshaped_img = cv2.resize(img, self.size)\n",
        "      cropped_labels = []\n",
        "      cropped_images = []\n",
        "      for i in range(self.no_crop_per_img):\n",
        "        seed = np.random.randint(0,2**32)\n",
        "        np.random.seed(seed)\n",
        "        cropped_label = ImageUtils.get_random_crop(self.labels, self.cropped_size)\n",
        "        cropped_img = ImageUtils.get_random_crop(reshaped_img, self.cropped_size)\n",
        "        cropped_labels.append(cropped_label)\n",
        "        cropped_images.append(cropped_img)\n",
        "\n",
        "      labels = np.stack(cropped_labels, axis = -1)\n",
        "      croppped_arr = np.stack(cropped_images, axis = -1)\n",
        "\n",
        "      arr_img.append(croppped_arr)\n",
        "      arr_labels.append(labels)\n",
        "\n",
        "    arr_img = np.stack(arr_img, axis=-1)\n",
        "    # arr_img = arr_img.reshape(arr_img.shape[0:-2] + (-1,))\n",
        "\n",
        "    arr_labels = np.stack(arr_labels, axis=-1)\n",
        "    # arr_labels = arr_labels.reshape(arr_labels.shape[0:-2] + (-1,))\n",
        "\n",
        "    return {'img':arr_img, 'labels':arr_labels}"
      ],
      "metadata": {
        "id": "pKwQmtJnOZef"
      },
      "execution_count": 8,
      "outputs": []
    },
    {
      "cell_type": "code",
      "source": [
        "class ImageUtils:\n",
        "  def get_random_crop(image, crop_size):\n",
        "    crop_height, crop_width = crop_size\n",
        "    max_x = image.shape[1] - crop_width\n",
        "    max_y = image.shape[0] - crop_height\n",
        "\n",
        "    x = np.random.randint(0, max_x)\n",
        "    y = np.random.randint(0, max_y)\n",
        "\n",
        "    crop = image[y: y + crop_height, x: x + crop_width]\n",
        "\n",
        "    return crop\n",
        "\n",
        "\n",
        "class CustomData(Dataset):\n",
        "  def __init__(self, gdf, size, path, no_crop_per_img, cropped_size = (64,64), num_train = 10):\n",
        "    super().__init__()\n",
        "    self.gdf = gdf\n",
        "    self.size = size\n",
        "    self.path = path\n",
        "    self.no_crop_per_img = no_crop_per_img\n",
        "    self.cropped_size = cropped_size\n",
        "    self.num_train = num_train\n",
        "    img_profile = rasterio.open(path['20210101'][0]).profile\n",
        "    label = gdf.to_crs(img_profile['crs'])\n",
        "    labels = rasterize(\n",
        "        shapes=[(row.geometry, int(row.crop_type)) for i, row in label.iterrows()], # Construct polygon and value tuples\n",
        "        out_shape=(img_profile['width'], img_profile['height']),\n",
        "        transform=img_profile['transform']                                          # This will make every pixel in the target image align correctly with satellite image\n",
        "    )\n",
        "    self.labels = cv2.resize(labels, self.size)\n",
        "\n",
        "  def __len__(self):\n",
        "    return self.num_train\n",
        "\n",
        "  def __getitem__(self, index):\n",
        "\n",
        "    arr_img = []\n",
        "    seed = np.random.randint(0,2**32)\n",
        "    np.random.seed(seed)\n",
        "\n",
        "    for k,v in self.path.items():\n",
        "      for img_path in v:\n",
        "        img = rasterio.open(img_path)\n",
        "        img = img.read()[0]\n",
        "        reshaped_img = cv2.resize(img, self.size)\n",
        "        \n",
        "        cropped_img = ImageUtils.get_random_crop(reshaped_img, self.cropped_size)\n",
        "        arr_img.append(cropped_img)\n",
        "    \n",
        "    labels = ImageUtils.get_random_crop(self.labels, self.cropped_size)\n",
        "    images = np.stack(arr_img, axis = -1)\n",
        "    return {'images':images, 'labels':labels}"
      ],
      "metadata": {
        "id": "PpBIGEBGfNj2"
      },
      "execution_count": 9,
      "outputs": []
    },
    {
      "cell_type": "code",
      "source": [
        "from tqdm import tqdm\n",
        "def create_dataset(path):\n",
        "  img_profile = rasterio.open(path['20210101'][0]).profile\n",
        "  label = gdf.to_crs(img_profile['crs'])\n",
        "  labels = rasterize(\n",
        "      shapes=[(row.geometry, int(row.crop_type)) for i, row in label.iterrows()], # Construct polygon and value tuples\n",
        "      out_shape=(img_profile['width'], img_profile['height']),\n",
        "      transform=img_profile['transform']                                          # This will make every pixel in the target image align correctly with satellite image\n",
        "  )\n",
        "  labels = cv2.resize(labels, (2051,2051))\n",
        "\n",
        "  arr_img = []\n",
        "  seed = np.random.randint(0,2**32)\n",
        "  np.random.seed(seed)\n",
        "  for i in tqdm(range(10)):\n",
        "    label = []\n",
        "    images = []\n",
        "    for k,v in path.items():\n",
        "      for img_path in v:\n",
        "        img = rasterio.open(img_path)\n",
        "        img = img.read()[0]\n",
        "        reshaped_img = cv2.resize(img, (2051,2051))\n",
        "        \n",
        "        cropped_img = ImageUtils.get_random_crop(reshaped_img, (64,64))\n",
        "        arr_img.append(cropped_img)\n",
        "  \n",
        "    label = ImageUtils.get_random_crop(labels, (64,64))\n",
        "    images = np.stack(arr_img, axis = -1)\n",
        "    np.save(f'labels{i}.npy',label)\n",
        "    np.save(f'images{i}.npy',images)\n",
        "    print(i)"
      ],
      "metadata": {
        "id": "vreUtc109MnG"
      },
      "execution_count": 10,
      "outputs": []
    },
    {
      "cell_type": "code",
      "source": [
        "create_dataset(img_path_dict)"
      ],
      "metadata": {
        "colab": {
          "base_uri": "https://localhost:8080/"
        },
        "id": "31R9fE57-Yu5",
        "outputId": "1c67cffb-0dbe-4b99-c048-04fb41f13f22"
      },
      "execution_count": null,
      "outputs": [
        {
          "output_type": "stream",
          "name": "stderr",
          "text": [
            " 10%|█         | 1/10 [04:14<38:08, 254.28s/it]"
          ]
        },
        {
          "output_type": "stream",
          "name": "stdout",
          "text": [
            "0\n"
          ]
        }
      ]
    },
    {
      "cell_type": "code",
      "source": [
        "gdf = gpd.read_file('/content/drive/MyDrive/VarunaHackathon2022/training_area/traindata.shp')\n",
        "path = '/content/VarunaHackathon2022/sentinel-2-image/2021/*'\n",
        "day = glob(path)\n",
        "date = [i.split('/')[-1] for i in day]\n",
        "\n",
        "def imagelist(x): \n",
        "  return glob('/content/drive/MyDrive/VarunaHackathon2022/sentinel-2-image/2021/' + x + '/IMG_DATA/*.jp2' )\n",
        "\n",
        "img_path_dict = {k:imagelist(k) for k in date}\n",
        "size = (2051,2051)\n",
        "train_dataset = CustomData(gdf, size, img_path_dict, 16)"
      ],
      "metadata": {
        "id": "dfxQvl9COrct"
      },
      "execution_count": 12,
      "outputs": []
    },
    {
      "cell_type": "code",
      "source": [
        "for i in train_dataset:\n",
        "  input = i\n",
        "  break"
      ],
      "metadata": {
        "id": "umgt0wATcd_Y"
      },
      "execution_count": 101,
      "outputs": []
    },
    {
      "cell_type": "code",
      "source": [
        "input['labels']"
      ],
      "metadata": {
        "colab": {
          "base_uri": "https://localhost:8080/"
        },
        "id": "GbINLX1Q3lTZ",
        "outputId": "e8814e8e-9677-4e37-f798-124a5bdb67e7"
      },
      "execution_count": 89,
      "outputs": [
        {
          "output_type": "execute_result",
          "data": {
            "text/plain": [
              "array([[0, 0, 0, ..., 0, 0, 0],\n",
              "       [0, 0, 0, ..., 0, 0, 0],\n",
              "       [0, 0, 0, ..., 0, 0, 0],\n",
              "       ...,\n",
              "       [0, 0, 0, ..., 0, 0, 0],\n",
              "       [0, 0, 0, ..., 0, 0, 0],\n",
              "       [0, 0, 0, ..., 0, 0, 0]], dtype=uint8)"
            ]
          },
          "metadata": {},
          "execution_count": 89
        }
      ]
    },
    {
      "cell_type": "code",
      "source": [
        "input['images'].shape"
      ],
      "metadata": {
        "colab": {
          "base_uri": "https://localhost:8080/"
        },
        "id": "HSygaXcW0Uln",
        "outputId": "28e05977-4b7e-4944-d2a5-9d5a2815ad2a"
      },
      "execution_count": 87,
      "outputs": [
        {
          "output_type": "execute_result",
          "data": {
            "text/plain": [
              "(64, 64, 1065)"
            ]
          },
          "metadata": {},
          "execution_count": 87
        }
      ]
    },
    {
      "cell_type": "code",
      "source": [
        "!cp /content/drive/MyDrive/VarunaHackathon2022 -d /content/"
      ],
      "metadata": {
        "id": "vsNwSIwOsAtF"
      },
      "execution_count": 90,
      "outputs": []
    },
    {
      "cell_type": "code",
      "source": [
        "class Model1(nn.Modules):\n",
        "  def __init__(self):\n",
        "    pass\n",
        "  def forward(self, image):\n",
        "    pass"
      ],
      "metadata": {
        "id": "Tz3skdRRvXEF"
      },
      "execution_count": null,
      "outputs": []
    }
  ]
}